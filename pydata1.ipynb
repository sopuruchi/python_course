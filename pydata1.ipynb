{
 "cells": [
  {
   "cell_type": "code",
   "execution_count": 1,
   "id": "5934f623",
   "metadata": {},
   "outputs": [
    {
     "name": "stdout",
     "output_type": "stream",
     "text": [
      "Hello world!!\n"
     ]
    }
   ],
   "source": [
    "print(\"Hello world!!\")"
   ]
  },
  {
   "cell_type": "code",
   "execution_count": 2,
   "id": "48d096cd",
   "metadata": {},
   "outputs": [
    {
     "name": "stdout",
     "output_type": "stream",
     "text": [
      "30\n"
     ]
    }
   ],
   "source": [
    "x = 12\n",
    "y = 18\n",
    "print(x + y)"
   ]
  },
  {
   "cell_type": "code",
   "execution_count": 3,
   "id": "8ece94ee",
   "metadata": {},
   "outputs": [
    {
     "name": "stdout",
     "output_type": "stream",
     "text": [
      "\n",
      "    Hello Mitchell,\n",
      "    Thanks for helping the class with your expertise,\n",
      "    regards.\n",
      "\n"
     ]
    }
   ],
   "source": [
    "print(f\"\"\"\n",
    "    Hello Mitchell,\n",
    "    Thanks for helping the class with your expertise,\n",
    "    regards.\n",
    "\"\"\")"
   ]
  },
  {
   "cell_type": "code",
   "execution_count": 4,
   "id": "1c26abe6",
   "metadata": {},
   "outputs": [
    {
     "name": "stdout",
     "output_type": "stream",
     "text": [
      "Hello Mitchell, Thanks for helping the class with your expertise, regards\n"
     ]
    }
   ],
   "source": [
    "print(f\"Hello Mitchell, Thanks for helping the class with your expertise, regards\")"
   ]
  },
  {
   "cell_type": "code",
   "execution_count": 5,
   "id": "a0382a1d",
   "metadata": {},
   "outputs": [
    {
     "name": "stdout",
     "output_type": "stream",
     "text": [
      "Enter your name: hgvjy\n",
      "Enter year of birth: 233\n",
      "\n",
      "    Hello hgvjy,\n",
      "    the computer calculated your age to be 1789.0,\n",
      "    Hope your input was entered correctly.\n",
      "\n"
     ]
    }
   ],
   "source": [
    "name = input(\"Enter your name: \")\n",
    "yob = float(input(\"Enter year of birth: \"))\n",
    "\n",
    "age = 2022 - yob\n",
    "print(f\"\"\"\n",
    "    Hello {name},\n",
    "    the computer calculated your age to be {age},\n",
    "    Hope your input was entered correctly.\n",
    "\"\"\")"
   ]
  },
  {
   "cell_type": "code",
   "execution_count": 7,
   "id": "db6ba9c0",
   "metadata": {},
   "outputs": [
    {
     "name": "stdout",
     "output_type": "stream",
     "text": [
      "Enter temperature value: 45\n",
      "Enter unit (f/c): f\n",
      "The temperature value from fahr to cel is 7.222 degree celsius\n"
     ]
    }
   ],
   "source": [
    "temp_val = float(input(\"Enter temperature value: \"))\n",
    "unit = input(\"Enter unit (f/c): \").lower()\n",
    "\n",
    "if unit == \"f\":\n",
    "    temp_fahr = round((5 / 9) * (temp_val - 32), 3)\n",
    "    print(f\"The temperature value from fahr to cel is {temp_fahr} degree celsius\")\n",
    "elif unit == \"c\":\n",
    "    temp_cel = round((9 / 5) * (temp_val + 32), 3)\n",
    "    print(f\"The temperature value from cel to fahr is {temp_cel} degree fahrenheit\")\n",
    "else:\n",
    "    print(\"The input is not understood\")"
   ]
  },
  {
   "cell_type": "code",
   "execution_count": 8,
   "id": "ab9258ed",
   "metadata": {},
   "outputs": [
    {
     "name": "stdout",
     "output_type": "stream",
     "text": [
      "the default units are lbs and ft\n",
      "enter weight value: 34\n",
      "enter weight unit: lbs\n",
      "enter height value: 45\n",
      "enter height unit: ft\n",
      "bmi value 0.016790123456790124 is challenging\n"
     ]
    }
   ],
   "source": [
    "print(\"the default units are lbs and ft\")\n",
    "weight = float(input('enter weight value: '))\n",
    "unit_weight = input('enter weight unit: ')\n",
    "height = float(input('enter height value: '))\n",
    "height_unit = input('enter height unit: ')\n",
    "\n",
    "if unit_weight == 'lbs' and height_unit == 'ft':\n",
    "    bmi = weight/(height**2)\n",
    "    if bmi >= 1.5 and bmi <= 2.5:\n",
    "        print(f\"bmi value of {bmi} too low\")\n",
    "    elif bmi >=2.6 and bmi <= 5.5:\n",
    "        print(f\"bmi value of {bmi} is okay\")\n",
    "    else:\n",
    "        print(f\"bmi value {bmi} is challenging\")\n",
    "    #print(f\"{bmi}lbs/ft2\")\n",
    "    \n",
    "elif unit_weight == \"kg\" and height_unit == \"m\":\n",
    "    bmi = (weight/2.204) / ((height/3.281)**2)\n",
    "    print(f\"{bmi}kg/m2\")\n",
    "          \n",
    "else:\n",
    "    print(\"Conversion not available or input incorrect\")"
   ]
  },
  {
   "cell_type": "code",
   "execution_count": null,
   "id": "93460dc9",
   "metadata": {},
   "outputs": [],
   "source": []
  }
 ],
 "metadata": {
  "kernelspec": {
   "display_name": "Python 3 (ipykernel)",
   "language": "python",
   "name": "python3"
  },
  "language_info": {
   "codemirror_mode": {
    "name": "ipython",
    "version": 3
   },
   "file_extension": ".py",
   "mimetype": "text/x-python",
   "name": "python",
   "nbconvert_exporter": "python",
   "pygments_lexer": "ipython3",
   "version": "3.9.7"
  }
 },
 "nbformat": 4,
 "nbformat_minor": 5
}
